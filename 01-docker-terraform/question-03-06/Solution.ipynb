{
 "cells": [
  {
   "cell_type": "code",
   "execution_count": 1,
   "metadata": {},
   "outputs": [],
   "source": [
    "import psycopg2\n",
    "import csv"
   ]
  },
  {
   "cell_type": "markdown",
   "metadata": {},
   "source": [
    "### 1. Connect to postgres database via local host "
   ]
  },
  {
   "cell_type": "code",
   "execution_count": 2,
   "metadata": {},
   "outputs": [],
   "source": [
    "dbname = \"ny_taxi\"\n",
    "user = \"postgres\"\n",
    "password = \"postgres\"\n",
    "host = \"localhost\"\n",
    "port = \"5433\"\n",
    "\n",
    "connection = psycopg2.connect(\n",
    "    dbname=dbname,\n",
    "    user=user,\n",
    "    password=password,\n",
    "    host=host,\n",
    "    port=port\n",
    ")\n",
    "\n",
    "cursor = connection.cursor()"
   ]
  },
  {
   "cell_type": "markdown",
   "metadata": {},
   "source": [
    "### 2. Create tables and load data"
   ]
  },
  {
   "cell_type": "code",
   "execution_count": 3,
   "metadata": {},
   "outputs": [],
   "source": [
    "try:\n",
    "    with open('sql_queries/create_tables.sql', 'r') as file:\n",
    "        create_table = file.read()\n",
    "        \n",
    "    cursor.execute(create_table)\n",
    "    connection.commit()\n",
    "    \n",
    "    \n",
    "except Exception as e:\n",
    "    print(f\"Error: {e}\")\n",
    "    connection.rollback()"
   ]
  },
  {
   "cell_type": "code",
   "execution_count": 4,
   "metadata": {},
   "outputs": [],
   "source": [
    "trips = \"../data/green_tripdata_2019-10.csv\"\n",
    "locations = \"../data/taxi_zone_lookup.csv\"\n",
    "\n",
    "def convert_empty_to_none(value):\n",
    "    return None if value == \"\" else value\n",
    "\n",
    "with open('sql_queries/insert_trips.sql', 'r') as file:\n",
    "    insert_trips = file.read()\n",
    "\n",
    "with open('sql_queries/insert_location.sql', 'r') as file:\n",
    "    insert_location = file.read()"
   ]
  },
  {
   "cell_type": "code",
   "execution_count": 5,
   "metadata": {},
   "outputs": [],
   "source": [
    "try:\n",
    "    with open(trips, 'r') as file:\n",
    "        reader = csv.reader(file)\n",
    "        next(reader)  # Skip the header row\n",
    "        for row in reader:\n",
    "            row = [convert_empty_to_none(value) for value in row]\n",
    "            cursor.execute(insert_trips, row)\n",
    "            \n",
    "    with open(locations, 'r') as file:\n",
    "        reader = csv.reader(file)\n",
    "        next(reader)  # Skip the header row\n",
    "        for row in reader:\n",
    "            row = [convert_empty_to_none(value) for value in row]\n",
    "            cursor.execute(insert_location, row)\n",
    "    \n",
    "    connection.commit()\n",
    "    \n",
    "except Exception as e:\n",
    "    print(f\"Error: {e}\")\n",
    "    connection.rollback()"
   ]
  },
  {
   "cell_type": "markdown",
   "metadata": {},
   "source": [
    "### 3. Solutions"
   ]
  },
  {
   "cell_type": "markdown",
   "metadata": {},
   "source": [
    "#### Question 3"
   ]
  },
  {
   "cell_type": "code",
   "execution_count": 6,
   "metadata": {},
   "outputs": [
    {
     "name": "stdout",
     "output_type": "stream",
     "text": [
      "(104830, 198995, 109642, 27686, 35201)\n"
     ]
    }
   ],
   "source": [
    "try:\n",
    "    with open('sql_queries/question3.sql', 'r') as file:\n",
    "        query = file.read()\n",
    "        \n",
    "    cursor.execute(query)\n",
    "    results = cursor.fetchall()\n",
    "    \n",
    "    for row in results:\n",
    "        print(row)\n",
    "    \n",
    "except Exception as e:\n",
    "    print(f\"Error: {e}\")\n",
    "    connection.rollback()"
   ]
  },
  {
   "cell_type": "markdown",
   "metadata": {},
   "source": [
    "#### Question 4"
   ]
  },
  {
   "cell_type": "code",
   "execution_count": 7,
   "metadata": {},
   "outputs": [
    {
     "name": "stdout",
     "output_type": "stream",
     "text": [
      "(datetime.date(2019, 10, 31), Decimal('515.89'))\n"
     ]
    }
   ],
   "source": [
    "try:\n",
    "    with open('sql_queries/question4.sql', 'r') as file:\n",
    "        query = file.read()\n",
    "        \n",
    "    cursor.execute(query)\n",
    "    results = cursor.fetchall()\n",
    "    \n",
    "    for row in results:\n",
    "        print(row)\n",
    "    \n",
    "except Exception as e:\n",
    "    print(f\"Error: {e}\")\n",
    "    connection.rollback()"
   ]
  },
  {
   "cell_type": "markdown",
   "metadata": {},
   "source": [
    "#### Question 5"
   ]
  },
  {
   "cell_type": "code",
   "execution_count": 8,
   "metadata": {},
   "outputs": [
    {
     "name": "stdout",
     "output_type": "stream",
     "text": [
      "(74, 'East Harlem North', Decimal('18686.68'))\n",
      "(75, 'East Harlem South', Decimal('16797.26'))\n",
      "(166, 'Morningside Heights', Decimal('13029.79'))\n"
     ]
    }
   ],
   "source": [
    "try:\n",
    "    with open('sql_queries/question5.sql', 'r') as file:\n",
    "        query = file.read()\n",
    "        \n",
    "    cursor.execute(query)\n",
    "    results = cursor.fetchall()\n",
    "    \n",
    "    for row in results:\n",
    "        print(row)\n",
    "    \n",
    "except Exception as e:\n",
    "    print(f\"Error: {e}\")\n",
    "    connection.rollback()"
   ]
  },
  {
   "cell_type": "markdown",
   "metadata": {},
   "source": [
    "#### Question 6"
   ]
  },
  {
   "cell_type": "code",
   "execution_count": 9,
   "metadata": {},
   "outputs": [
    {
     "name": "stdout",
     "output_type": "stream",
     "text": [
      "('East Harlem North', 'JFK Airport', Decimal('87.30'))\n"
     ]
    }
   ],
   "source": [
    "try:\n",
    "    with open('sql_queries/question6.sql', 'r') as file:\n",
    "        query = file.read()\n",
    "        \n",
    "    cursor.execute(query)\n",
    "    results = cursor.fetchall()\n",
    "    \n",
    "    for row in results:\n",
    "        print(row)\n",
    "    \n",
    "except Exception as e:\n",
    "    print(f\"Error: {e}\")\n",
    "    connection.rollback()"
   ]
  }
 ],
 "metadata": {
  "kernelspec": {
   "display_name": "AI",
   "language": "python",
   "name": "python3"
  },
  "language_info": {
   "codemirror_mode": {
    "name": "ipython",
    "version": 3
   },
   "file_extension": ".py",
   "mimetype": "text/x-python",
   "name": "python",
   "nbconvert_exporter": "python",
   "pygments_lexer": "ipython3",
   "version": "3.10.13"
  }
 },
 "nbformat": 4,
 "nbformat_minor": 2
}
